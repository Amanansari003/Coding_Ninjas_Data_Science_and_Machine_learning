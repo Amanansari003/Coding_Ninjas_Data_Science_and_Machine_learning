{
 "cells": [
  {
   "attachments": {},
   "cell_type": "markdown",
   "metadata": {},
   "source": [
    "### terrorisam day"
   ]
  },
  {
   "cell_type": "code",
   "execution_count": 1,
   "metadata": {},
   "outputs": [
    {
     "name": "stdout",
     "output_type": "stream",
     "text": [
      "66330\n"
     ]
    }
   ],
   "source": [
    "import numpy as np \n",
    "import csv \n",
    "\n",
    "with open(\"terrorismData.csv\",encoding='utf-8') as file_data  :\n",
    "    file_list = csv.DictReader(file_data, skipinitialspace = True)\n",
    "    \n",
    "    attack = []\n",
    "    for row in file_list :\n",
    "        attack.append(row[\"Day\"])\n",
    "    \n",
    "    np_attack = np.array(attack)\n",
    "    np_attack = np.array(np_attack,dtype=float)\n",
    "    np_attack = np.array(np_attack,dtype=int)\n",
    "    bool_arr = np_attack[(np_attack>9) & (np_attack <21)]\n",
    "    print(len(bool_arr))"
   ]
  },
  {
   "attachments": {},
   "cell_type": "markdown",
   "metadata": {},
   "source": [
    "### terrorisam Date"
   ]
  },
  {
   "cell_type": "code",
   "execution_count": 2,
   "metadata": {},
   "outputs": [
    {
     "name": "stdout",
     "output_type": "stream",
     "text": [
      "271\n"
     ]
    }
   ],
   "source": [
    "import numpy as np \n",
    "import csv \n",
    "\n",
    "with open(\"terrorismData.csv\",encoding='utf-8') as file_data  :\n",
    "    file_list = csv.DictReader(file_data, skipinitialspace = True)\n",
    "\n",
    "    year = []\n",
    "    month = []\n",
    "    day = []\n",
    "\n",
    "    for row in file_list  :\n",
    "        year.append(row[\"Year\"])\n",
    "        month.append(row[\"Month\"])\n",
    "        day.append(row[\"Day\"])\n",
    "    \n",
    "    np_day = np.array(day)\n",
    "    np_year = np.array(year)\n",
    "    np_month = np.array(month)\n",
    "\n",
    "    np_day = np.array(np_day,dtype=float)\n",
    "    np_year = np.array(np_year,dtype=float)\n",
    "    np_month = np.array(np_month,dtype=float)\n",
    "\n",
    "    np_day = np.array(np_day,dtype=int)\n",
    "    np_year = np.array(np_year,dtype=int)\n",
    "    np_month = np.array(np_month,dtype=int)\n",
    "\n",
    "    bool_month = np_month == 1 \n",
    "    bool_year = np_year == 2010 \n",
    "\n",
    "    np_day = np_day[(bool_year)&(bool_month)]\n",
    "    val_day = np_day[np_day>0]\n",
    "    print(len(val_day))"
   ]
  },
  {
   "attachments": {},
   "cell_type": "markdown",
   "metadata": {},
   "source": [
    "### terro casulty attack"
   ]
  },
  {
   "cell_type": "code",
   "execution_count": 3,
   "metadata": {},
   "outputs": [
    {
     "name": "stdout",
     "output_type": "stream",
     "text": [
      "22 Kargil District Separatists\n"
     ]
    }
   ],
   "source": [
    "\n",
    "#### *****---- NOT A CORRECT APPROACH SOLUTION IS WRONG \n",
    "# import numpy as np \n",
    "# import csv \n",
    "\n",
    "# with open(\"terrorismData.csv\",encoding=\"utf8\") as file_data  :\n",
    "#     file_list = csv.DictReader(file_data, skipinitialspace = True)\n",
    "\n",
    "#     killed = []\n",
    "#     wounded = []\n",
    "#     city = []\n",
    "#     group = []\n",
    "#     month = []\n",
    "#     year = []\n",
    "#     for i in file_list:\n",
    "#         killed.append(i[\"Killed\"])\n",
    "#         wounded.append(i[\"Wounded\"])\n",
    "#         city.append(i[\"City\"])\n",
    "#         group.append(i[\"Group\"])\n",
    "#         year.append(i[\"Year\"])\n",
    "#         month.append(i[\"Month\"])\n",
    "\n",
    "#     np_group = np.array(group)\n",
    "#     np_wound = np.array(wounded)\n",
    "#     np_city = np.array(city)\n",
    "#     np_killed = np.array(killed)\n",
    "\n",
    "#     np_year = np.array(year)\n",
    "#     np_month = np.array(month)\n",
    "#     np_year = np.array(np_year,dtype=float)\n",
    "#     np_month = np.array(np_month,dtype=float)\n",
    "#     np_year = np.array(np_year,dtype=int)\n",
    "#     np_month = np.array(np_month,dtype=int)\n",
    "\n",
    "#     np_killed[np_killed==\"\"] = \"0.0\"\n",
    "#     np_wound[np_wound==\"\"] = \"0.0\"\n",
    "\n",
    "#     np_wound = np.array(np_wound,dtype=float)\n",
    "#     np_killed = np.array(np_killed,dtype=float)\n",
    "\n",
    "#     np_wound = np.array(np_wound,dtype = int)\n",
    "#     np_killed = np.array(np_killed,dtype=int)\n",
    "#     casullies = np_wound+np_killed\n",
    "\n",
    "#     bool_month = (np_month>=5) &(np_month<=7) \n",
    "#     bool_year = np_year == 1999\n",
    "\n",
    "#     casullies = casullies[(bool_month)&(bool_year)]\n",
    "#     np_city = np_city[(bool_month)&(bool_year)]\n",
    "#     np_group = np_group[(bool_month)&(bool_year)]\n",
    "\n",
    "#     for i,j,k in zip(casullies,np_city,np_group) :\n",
    "#         print(i,j,k)\n",
    "        \n",
    "\"\"\"\n",
    "TRY THE FOLLOWING\n",
    "\"\"\"\n",
    "\n",
    "import numpy as np\n",
    "import csv\n",
    "\n",
    "with open('terrorismData.csv',encoding=\"utf8\") as file_obj :\n",
    "    data = csv.DictReader(file_obj,skipinitialspace=True)\n",
    "    \n",
    "    city = []\n",
    "    casualty = []\n",
    "    for row in data:\n",
    "        if row[\"State\"] == \"Jammu and Kashmir\" and row[\"Year\"] == \"1999\" :  \n",
    "            if row[\"Month\"] ==\"5\" or row[\"Month\"] == \"6\" or row[\"Month\"] == \"7\" :  \n",
    "                casualty.append([row[\"Killed\"],row[\"Wounded\"]])\n",
    "                city.append([row[\"City\"],row['Group']])  \n",
    "                \n",
    "    np_city = np.array(city)\n",
    "    np_casualty = np.array(casualty) \n",
    "    \n",
    "    np_casualty[np_casualty==''] = \"0.0\"\n",
    "    np_casualty = np.array(np_casualty, dtype = float)\n",
    "    \n",
    "    np_casualty = np.sum(np_casualty, axis=1) \n",
    "    index = np.argmax(np_casualty)\n",
    "    print(int(np_casualty[index]),np_city[index][0],np_city[index][1])\n",
    "    \n",
    "    "
   ]
  },
  {
   "attachments": {},
   "cell_type": "markdown",
   "metadata": {},
   "source": [
    "### TERRRO CASULTY RED"
   ]
  },
  {
   "cell_type": "code",
   "execution_count": 8,
   "metadata": {},
   "outputs": [
    {
     "name": "stdout",
     "output_type": "stream",
     "text": [
      "5628\n"
     ]
    }
   ],
   "source": [
    "\n",
    "import numpy as np \n",
    "import csv \n",
    "\n",
    "with open(\"terrorismData.csv\",encoding='utf-8') as file_data  :\n",
    "    file_list = csv.DictReader(file_data, skipinitialspace = True)\n",
    "    casualty = []\n",
    "    for row in file_list :\n",
    "        if row[\"State\"] == \"Jharkhand\" or row[\"State\"] == \"Odisha\" or row[\"State\"] == \"Andhra Pradesh\" or row[\"State\"] == \"Chhattisgarh\" :\n",
    "            casualty.append([row[\"Killed\"],row[\"Wounded\"]])\n",
    "    \n",
    "    np_casulty = np.array(casualty)\n",
    "    np_casulty[np_casulty == \"\"] = \"0.0\"\n",
    "    np_casulty = np.array(np_casulty,dtype=float)\n",
    "    np_casulty = np.sum(np_casulty,axis=1)\n",
    "    print(int(np.sum(np_casulty)))"
   ]
  },
  {
   "attachments": {},
   "cell_type": "markdown",
   "metadata": {},
   "source": [
    "### TERROR CASULTY ATTACK "
   ]
  },
  {
   "cell_type": "code",
   "execution_count": 10,
   "metadata": {},
   "outputs": [
    {
     "name": "stdout",
     "output_type": "stream",
     "text": [
      "Chennai 232\n",
      "New Delhi 210\n",
      "Mumbai 1005\n",
      "Dispur 272\n",
      "Jhargam 255\n"
     ]
    }
   ],
   "source": [
    "## Open and read data file as specified in the question\n",
    "## Print the required output in given format\n",
    "\n",
    "import numpy as np \n",
    "import csv \n",
    "from collections import Counter\n",
    "\n",
    "with open('terrorismData.csv',encoding=\"utf8\") as file_obj :\n",
    "    data = csv.DictReader(file_obj,skipinitialspace=True)\n",
    "\n",
    "    casualty = []\n",
    "    city = []\n",
    "    for row in data :\n",
    "        if row[\"Country\"] == \"India\" :\n",
    "            if row[\"City\"] != \"Unknown\":\n",
    "                city.append(row[\"City\"])\n",
    "                casualty.append([row[\"Killed\"],row[\"Wounded\"]])\n",
    "    \n",
    "    np_city = np.array(city)\n",
    "    np_casualty = np.array(casualty)\n",
    "    np_casualty[np_casualty == \"\"] = \"0.0\"\n",
    "\n",
    "    np_casualty = np.array(np_casualty,dtype = float)\n",
    "    np_casualty = np.array(np_casualty, dtype= int)\n",
    "\n",
    "    np_casualty = np.sum(np_casualty , axis = 1)\n",
    "#     np_casualty1 = np.copy(np_casualty)\n",
    "#     for i in range(5):\n",
    "#         np_casualty[np_casualty.argmax()] = -1\n",
    "    \n",
    "#     # print(np_casualty1[np_casualty==-1])\n",
    "#     bool_casulty = np_casualty == -1\n",
    "#     val_city = np_city[bool_casulty]\n",
    "#     val_casulty = np_casualty1[bool_casulty]\n",
    "#     for i,j in zip(val_city,val_casulty):\n",
    "#         print(i,j)\n",
    "    dic = {}\n",
    "    for i in range(len(np_city)):\n",
    "        if np_city[i] in dic:\n",
    "            dic[np_city[i]] += np_casualty[i] \n",
    "        else:\n",
    "            dic[np_city[i]] = np_casualty[i] \n",
    "            \n",
    "            \n",
    "    k = Counter(dic) \n",
    "    high = k.most_common(5) \n",
    "    for i in high: \n",
    "        print(i[0],int(i[1])) "
   ]
  },
  {
   "attachments": {},
   "cell_type": "markdown",
   "metadata": {},
   "source": [
    "### TERRORISM FREQUENCY DAY"
   ]
  },
  {
   "cell_type": "code",
   "execution_count": null,
   "metadata": {},
   "outputs": [],
   "source": [
    "import numpy as np \n",
    "import csv \n",
    "\n",
    "with open('terrorismData.csv',encoding=\"utf8\") as file_obj :\n",
    "    data = csv.DictReader(file_obj,skipinitialspace=True)\n",
    "\n",
    "    day = []\n",
    "    for row in data:\n",
    "        day.append(row[\"Day\"])\n",
    "\n",
    "    np_day = np.array(day,dtype=int)\n",
    "    day, count = np.unique(np_day,return_counts= True)\n",
    "    ### will return the unique values of array and the count that how many times that unique value appear \n",
    "    ### example = [1,1,1,2,2,3,3,3,3,4,4,4,5]\n",
    "    ## unique array will be [1,2,3,4,5] and count ccorresponding to this will be \n",
    "    ## [3,2,4,3,1] this will have the count that how many times the value repeted in array \n",
    "    index = np.argmax(count)\n",
    "    print(day[index],count[index]) "
   ]
  }
 ],
 "metadata": {
  "kernelspec": {
   "display_name": "Python 3",
   "language": "python",
   "name": "python3"
  },
  "language_info": {
   "codemirror_mode": {
    "name": "ipython",
    "version": 3
   },
   "file_extension": ".py",
   "mimetype": "text/x-python",
   "name": "python",
   "nbconvert_exporter": "python",
   "pygments_lexer": "ipython3",
   "version": "3.10.7"
  },
  "orig_nbformat": 4,
  "vscode": {
   "interpreter": {
    "hash": "6b6bb9b73e77c7418ba4b370821ce9827db27c53033f41f9ef34f697bab06e5b"
   }
  }
 },
 "nbformat": 4,
 "nbformat_minor": 2
}
