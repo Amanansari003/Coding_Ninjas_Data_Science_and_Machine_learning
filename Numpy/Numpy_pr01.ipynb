{
 "cells": [
  {
   "attachments": {},
   "cell_type": "markdown",
   "metadata": {},
   "source": [
    "## numpy 2D array "
   ]
  },
  {
   "cell_type": "code",
   "execution_count": 1,
   "metadata": {},
   "outputs": [
    {
     "name": "stdout",
     "output_type": "stream",
     "text": [
      "[[1 2 3]\n",
      " [4 5 6]\n",
      " [7 8 9]]\n"
     ]
    }
   ],
   "source": [
    "import numpy as np \n",
    "a =  [[1, 2, 3], [4, 5, 6], [7, 8, 9]]\n",
    "b = np.array(a)\n",
    "print(b)"
   ]
  },
  {
   "attachments": {},
   "cell_type": "markdown",
   "metadata": {},
   "source": [
    "### np 0s and 1s"
   ]
  },
  {
   "cell_type": "code",
   "execution_count": null,
   "metadata": {},
   "outputs": [],
   "source": [
    "import numpy as np \n",
    "a=np.zeros(10,dtype=int)\n",
    "for i in range(0,10):\n",
    "    if i==4:\n",
    "        a[i]=1\n",
    "    print(a[i],end=' ') "
   ]
  },
  {
   "attachments": {},
   "cell_type": "markdown",
   "metadata": {},
   "source": [
    "### np inclusive"
   ]
  },
  {
   "cell_type": "code",
   "execution_count": null,
   "metadata": {},
   "outputs": [],
   "source": [
    "import numpy as np\n",
    "b = np.arange(9,50)\n",
    "for i in b :\n",
    "    print(i,end = \" \")  "
   ]
  },
  {
   "attachments": {},
   "cell_type": "markdown",
   "metadata": {},
   "source": [
    "### identity matrix"
   ]
  },
  {
   "cell_type": "code",
   "execution_count": null,
   "metadata": {},
   "outputs": [],
   "source": [
    "import numpy as np \n",
    "b = np.eye(5,6,dtype = int)\n",
    "print(b)"
   ]
  },
  {
   "attachments": {},
   "cell_type": "markdown",
   "metadata": {},
   "source": [
    "### cut rope"
   ]
  },
  {
   "cell_type": "code",
   "execution_count": null,
   "metadata": {},
   "outputs": [],
   "source": [
    "import numpy  as np \n",
    "d = np.linspace(0,5,9, endpoint = False)\n",
    "for i in d :\n",
    "    if i!=0.00 :\n",
    "        format_float = \"{:.2f}\".format(i)\n",
    "        print(format_float) "
   ]
  },
  {
   "attachments": {},
   "cell_type": "markdown",
   "metadata": {},
   "source": [
    "### print elements"
   ]
  },
  {
   "cell_type": "code",
   "execution_count": null,
   "metadata": {},
   "outputs": [],
   "source": [
    "import numpy as np\n",
    "input_=np.arange(1,21,1)\n",
    "input_=input_.reshape(4,5)\n",
    "\n",
    "a = input_[2,0:3]\n",
    "for i in a :\n",
    "    print(i,end = \" \")\n",
    "print()\n",
    "\n",
    "a = input_[1:4,3]\n",
    "for i in a :\n",
    "    print(i, end = \" \")\n",
    "print()\n",
    "\n",
    "a = input_[2:4,0:5]\n",
    "for i in a :\n",
    "    print(*i, end = \" \")\n",
    "print()\n",
    "\n",
    "a = input_[1:3,1:3]\n",
    "for i in a :\n",
    "    print(*i,end = \" \")"
   ]
  },
  {
   "attachments": {},
   "cell_type": "markdown",
   "metadata": {},
   "source": [
    "### none 0s value"
   ]
  },
  {
   "cell_type": "code",
   "execution_count": null,
   "metadata": {},
   "outputs": [],
   "source": [
    "import numpy as np\n",
    "a = [1,2,0,0,4,0]\n",
    "a = np.array(a)\n",
    "b = np.where(a>0)\n",
    "b = b[0]\n",
    "print(*b)"
   ]
  },
  {
   "attachments": {},
   "cell_type": "markdown",
   "metadata": {},
   "source": [
    "### multiple of 3"
   ]
  },
  {
   "cell_type": "code",
   "execution_count": null,
   "metadata": {},
   "outputs": [],
   "source": [
    "import numpy as np\n",
    "a = np.arange(1,20,2)\n",
    "print(a)\n",
    "ind = np.where(a%3 == 0 )\n",
    "print(*ind[0])"
   ]
  },
  {
   "attachments": {},
   "cell_type": "markdown",
   "metadata": {},
   "source": [
    "### odd elements "
   ]
  },
  {
   "cell_type": "code",
   "execution_count": null,
   "metadata": {},
   "outputs": [],
   "source": [
    "import numpy as np\n",
    "a = np.arange(1,11,1)\n",
    "c = a%2!=0 \n",
    "a[c] = -1\n",
    "print(*a)"
   ]
  },
  {
   "attachments": {},
   "cell_type": "markdown",
   "metadata": {},
   "source": [
    "#### replace max"
   ]
  },
  {
   "cell_type": "code",
   "execution_count": null,
   "metadata": {},
   "outputs": [],
   "source": [
    "import numpy as np \n",
    "a = np.array([11, 2, 13, 4, 15, 6, 27, 8, 19])\n",
    "b = a.max()\n",
    "a[a==b] = 0\n",
    "for i in a :\n",
    "    print(i)"
   ]
  },
  {
   "attachments": {},
   "cell_type": "markdown",
   "metadata": {},
   "source": [
    "### negate elements "
   ]
  },
  {
   "cell_type": "code",
   "execution_count": null,
   "metadata": {},
   "outputs": [],
   "source": [
    "import numpy as np \n",
    "a = np.array([1, 2, 3, 4, 5, 6, 7, 8, 9, 10])\n",
    "a[2:-2]*=(-1)\n",
    "for i in a :\n",
    "    print(i)"
   ]
  },
  {
   "attachments": {},
   "cell_type": "markdown",
   "metadata": {},
   "source": [
    "### height "
   ]
  },
  {
   "cell_type": "code",
   "execution_count": null,
   "metadata": {},
   "outputs": [],
   "source": [
    "import numpy as np\n",
    "age=np.array([15,17,19,20,14,21,16,19,13,20,22,23,21,16,18,19,20,15,17,18])\n",
    "height=np.array([156,144,180,162,152,157,154,155,151,150,158,179,126,182,183,154,159,160,172,149])\n",
    "indx = np.where(height>155)\n",
    "# a = age[indx]\n",
    "# b = height[height>155]\n",
    "# for i, j in zip(a,b) :\n",
    "#     print(i,j)  \n",
    "age=age[indx]\n",
    "height=height[indx]\n",
    "# l=len(age)\n",
    "# for i in range(l):\n",
    "#     print(age[i],height[i],sep=\" \")\n",
    "for i,j in zip(age,height):\n",
    "    print(i,j)\n",
    "    \n",
    "    \n",
    "\n",
    "    #### ****-----ALL THE APPROACHS ARE CORRECT ****------"
   ]
  },
  {
   "attachments": {},
   "cell_type": "markdown",
   "metadata": {},
   "source": [
    "### sort by column"
   ]
  },
  {
   "cell_type": "code",
   "execution_count": null,
   "metadata": {},
   "outputs": [],
   "source": [
    "import numpy as np\n",
    "li= [[21,20,19,18,17],[16,15,14,13,12],[11,10,9,8,7],[6,5,4,3,2]]\n",
    "arr_=np.array(li)\n",
    "\n",
    "for i in range(5):\n",
    "    arr_[:,i].sort()\n",
    "print(arr_)   "
   ]
  },
  {
   "attachments": {},
   "cell_type": "markdown",
   "metadata": {},
   "source": [
    "### killed in USA"
   ]
  },
  {
   "cell_type": "code",
   "execution_count": 2,
   "metadata": {},
   "outputs": [
    {
     "name": "stdout",
     "output_type": "stream",
     "text": [
      "3771\n"
     ]
    }
   ],
   "source": [
    "import numpy as np \n",
    "import csv \n",
    "\n",
    "with open(\"terrorismData.csv\",encoding='utf-8') as file_obj :\n",
    "    file_data = csv.DictReader(file_obj,skipinitialspace = True )\n",
    "    file_list = list(file_data)\n",
    "\n",
    "killed = []\n",
    "country = []\n",
    "\n",
    "for row in file_list:\n",
    "    killed.append(row[\"Killed\"])\n",
    "    country.append(row[\"Country\"])\n",
    "\n",
    "np_killed = np.array(killed)\n",
    "np_country = np.array(country)\n",
    "\n",
    "np_killed[np_killed==\"\"] = \"0.0\"\n",
    "np_killed = np.array(np_killed,dtype=float)\n",
    "np_killed = np.array(np_killed,dtype=int)\n",
    "bool_arr = np_country == \"United States\"\n",
    "\n",
    "val_killed = np_killed[bool_arr]\n",
    "print(np.sum(val_killed))\n",
    "# for i in val_killed:\n",
    "#     print(i)"
   ]
  },
  {
   "attachments": {},
   "cell_type": "markdown",
   "metadata": {},
   "source": [
    "### total kill in USA"
   ]
  },
  {
   "cell_type": "code",
   "execution_count": 3,
   "metadata": {},
   "outputs": [
    {
     "name": "stdout",
     "output_type": "stream",
     "text": [
      "3771\n"
     ]
    }
   ],
   "source": [
    "import numpy as np \n",
    "import csv \n",
    "\n",
    "with open(\"terrorismData.csv\",encoding='utf-8') as file_obj :\n",
    "    file_list = csv.DictReader(file_obj,skipinitialspace = True )\n",
    "    killed = []\n",
    "    country = []\n",
    "\n",
    "    for row in file_list:\n",
    "        killed.append(row[\"Killed\"])\n",
    "        country.append(row[\"Country\"])\n",
    "\n",
    "    np_killed = np.array(killed)\n",
    "    np_country = np.array(country)\n",
    "\n",
    "    np_killed[np_killed==\"\"] = \"0.0\"\n",
    "    np_killed = np.array(np_killed,dtype=float)\n",
    "    np_killed = np.array(np_killed,dtype=int)\n",
    "    bool_arr = np_country == \"United States\"\n",
    "\n",
    "    val_killed = np_killed[bool_arr]\n",
    "    print(np.sum(val_killed))"
   ]
  }
 ],
 "metadata": {
  "kernelspec": {
   "display_name": "Python 3",
   "language": "python",
   "name": "python3"
  },
  "language_info": {
   "codemirror_mode": {
    "name": "ipython",
    "version": 3
   },
   "file_extension": ".py",
   "mimetype": "text/x-python",
   "name": "python",
   "nbconvert_exporter": "python",
   "pygments_lexer": "ipython3",
   "version": "3.10.7 (tags/v3.10.7:6cc6b13, Sep  5 2022, 14:08:36) [MSC v.1933 64 bit (AMD64)]"
  },
  "orig_nbformat": 4,
  "vscode": {
   "interpreter": {
    "hash": "6b6bb9b73e77c7418ba4b370821ce9827db27c53033f41f9ef34f697bab06e5b"
   }
  }
 },
 "nbformat": 4,
 "nbformat_minor": 2
}
