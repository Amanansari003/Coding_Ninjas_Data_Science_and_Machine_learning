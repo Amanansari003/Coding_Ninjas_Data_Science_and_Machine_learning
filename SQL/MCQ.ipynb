{
 "cells": [
  {
   "attachments": {},
   "cell_type": "markdown",
   "metadata": {},
   "source": [
    "**Get Job Title of 10th person in employees table with respect to insertion in the table.**\n",
    "\n",
    "    select jobTitle from employees limit 10;"
   ]
  },
  {
   "attachments": {},
   "cell_type": "markdown",
   "metadata": {},
   "source": [
    "**Get OrderNumber from OrderDetails Tables where quantityOrdered is equal to 59 and priceEach is greater than 100**\n",
    "\n",
    "    SELECT OrderNumber FROM OrderDetails \n",
    "    WHERE quantityOrdered=59 \n",
    "    AND priceEach>100;"
   ]
  },
  {
   "attachments": {},
   "cell_type": "markdown",
   "metadata": {},
   "source": [
    "                                            ##aggregae fucntion "
   ]
  },
  {
   "attachments": {},
   "cell_type": "markdown",
   "metadata": {},
   "source": [
    "**Find the number of distinct country names in the customers table.**\n",
    "\n",
    "\n",
    "    SELECT Count(DISTINCT country) FROM customers;"
   ]
  },
  {
   "attachments": {},
   "cell_type": "markdown",
   "metadata": {},
   "source": [
    "\n",
    "**From Table-orderdetails get the number of records where quantityOrdered is greater than 50**\n",
    "\n",
    "    SELECT Count(*) FROM orderdetails WHERE quantityOrdered>50;"
   ]
  },
  {
   "attachments": {},
   "cell_type": "markdown",
   "metadata": {},
   "source": [
    "Get sum of all payments from\n",
    "\n",
    "    i) 2002-01-01 to 2003-01-01\n",
    "    ii) 2003-01-01 to 2004-01-01\n",
    "    iii) 2004-01-01 to 2005-01-01\n",
    "    \n",
    "Which time range has the maximum payment?\n",
    "\n",
    "    select sum(amount) from payments where paymentdate > \"2004-01-01\" and paymentDate < \"2005-01-01\";"
   ]
  },
  {
   "attachments": {},
   "cell_type": "markdown",
   "metadata": {},
   "source": [
    "**Count the total number (quantity in stock) of motorcycles in products table**\n",
    "\n",
    "    SELECT SUM(quantityInStock) FROM products where productLine='Motorcycles';"
   ]
  },
  {
   "attachments": {},
   "cell_type": "markdown",
   "metadata": {},
   "source": [
    "**Update MSRP of motorcycles to 100 in the products table and get the sum of MSRP of motorcycles.**\n",
    "    \n",
    "    UPDATE products set MSRP=100 WHERE productLine=’Motorcycles’."
   ]
  },
  {
   "attachments": {},
   "cell_type": "markdown",
   "metadata": {},
   "source": [
    "# SQL 2 "
   ]
  },
  {
   "attachments": {},
   "cell_type": "markdown",
   "metadata": {},
   "source": [
    "**Get sum of quantityordered of each ordernumber from orderdetails table and tell output of orderNumber = 10425**\n",
    "\n",
    "        select orderNumber, sum(quantityOrdered) from orderdetails where orderNumber=10425 group by orderNumber ;"
   ]
  },
  {
   "attachments": {},
   "cell_type": "markdown",
   "metadata": {},
   "source": [
    "**Which productCode was ordered the most?**\n",
    "\n",
    "    The following query can be used to find the order frequency of all the productCode. Most ordered productCode is found after analysing the result of the query.\n",
    "    SELECT  productCode,Count(*) FROM orderdetails group by  productCode;\n",
    "\n",
    "\n",
    "    answer is S18_3232"
   ]
  },
  {
   "attachments": {},
   "cell_type": "markdown",
   "metadata": {},
   "source": [
    "**Get sum of price paid by customerNumber 473 on 2003-10-27 from payments table;**\n",
    "\n",
    "*there are two ways*\n",
    "\n",
    "    1. select customerNumber ,sum(amount) from payments where paymentDate = \"2003-10-27\" and customerNumber = 473;\n",
    "    \n",
    "    2. select customerNumber ,sum(amount) from payments where paymentDate = \"2003-10-27\" group by customerNumber;"
   ]
  },
  {
   "attachments": {},
   "cell_type": "markdown",
   "metadata": {},
   "source": [
    "**List the productLines that has quantity in stock more than 50000. Sort the result in increasing order of quantity. Write down the name of the product Line which has the lowest quantity in stock.**\n",
    "\n",
    "    SELECT productLine,SUM(quantityInStock) FROM products GROUP BY productLine HAVING SUM(quantityInStock)>50000 ORDER BY SUM(quantityInStock) ;"
   ]
  },
  {
   "attachments": {},
   "cell_type": "markdown",
   "metadata": {},
   "source": [
    "**NOT IN**\n",
    "\n",
    "    select productName, productLine, quantityInStock, buyPrice, MSRP from products where productLine in (\"Trucks and buses\",\"Trains\",'Planes') and quantityInStock > 8000 order by quantityInStock ;"
   ]
  },
  {
   "attachments": {},
   "cell_type": "markdown",
   "metadata": {},
   "source": [
    "**Get employeeNumber of President and VP sales.**\n",
    "    \n",
    "    SELECT employeeNumber FROM employees WHERE jobTitle IN (‘President, ‘VP Sales'); \n",
    "answer is 1002,1056"
   ]
  },
  {
   "attachments": {},
   "cell_type": "markdown",
   "metadata": {},
   "source": [
    "**Get details of those employees who don't report to President and VP sales (use employeeNumber from last result).**\n",
    "\n",
    "        SELECT employeeNumber FROM employees WHERE reportsTo NOT IN (1002, 1056); \n",
    "\n",
    "answer is \n",
    "\n",
    "1166,1165,1188 \n",
    "\n",
    "1216,1286,1323,1337 "
   ]
  },
  {
   "attachments": {},
   "cell_type": "markdown",
   "metadata": {},
   "source": [
    "**Get Different productLines whose msrp is in between 50 and 90 and they are not from productLine ‘Ships’ and ‘Planes’ (Use the original products table) .**\n",
    "\n",
    "    SELECT DISTINCT productLine FROM products WHERE MSRP BETWEEN 50 AND 90 AND productLine NOT IN ('Ships','Planes');\n",
    "answer is  \n",
    "Classic Cars, Motorcycles, Trains, Trucks and Buses, Vintage Cars"
   ]
  },
  {
   "attachments": {},
   "cell_type": "markdown",
   "metadata": {},
   "source": [
    "# LIKE"
   ]
  },
  {
   "attachments": {},
   "cell_type": "markdown",
   "metadata": {},
   "source": [
    "**Get details of those employees whose first name starts with ‘L’ and reports to 1143.**  \n",
    "   \n",
    "      SELECT firstName,lastName FROM employees WHERE firstName LIKE 'L%' AND reportsTo=1143;"
   ]
  },
  {
   "attachments": {},
   "cell_type": "markdown",
   "metadata": {},
   "source": [
    "**Get phone number of customer whose customerName has ‘to-Mo’ In between the name from customers table**   \n",
    "    \n",
    "    SELECT phone from customers WHERE customerName LIKE ‘%to-Mo%’;\n",
    "\n",
    "answer is 6175558428"
   ]
  },
  {
   "attachments": {},
   "cell_type": "markdown",
   "metadata": {},
   "source": [
    "                                        #INNER JOINS "
   ]
  },
  {
   "attachments": {},
   "cell_type": "markdown",
   "metadata": {},
   "source": [
    "**Tick the correct order numbers of 'Atelier graphique' (customer name) from orders and customer table**\n",
    "\n",
    "    select orderNumber from orders join customers on orders.customerNumber = customers.customerNumber\n",
    "    where customerName = \"Atelier graphique\";"
   ]
  },
  {
   "attachments": {},
   "cell_type": "markdown",
   "metadata": {},
   "source": [
    "**Get sum of priceEach for orderNumber 10300 and customerNumber = 128 from order and orderdetails table**\n",
    "\n",
    "    select sum(orderdetails.priceEach) from orders inner join orderdetails\n",
    "    on orders.orderNumber = orderdetails.orderNumber\n",
    "    where orders.orderNumber = 10300 and orders.CustomerNumber = 128;\n",
    "\n",
    "answer is 798.48"
   ]
  },
  {
   "attachments": {},
   "cell_type": "markdown",
   "metadata": {},
   "source": [
    "Get sum of priceeach from orderdetails table for customer name ’Atelier graphique’ from customers table matching orderNumber from orders table\n",
    "\n",
    "    select sum(orderdetails.priceEach) from orderdetails join orders\n",
    "    -> on orderdetails.orderNumber = orders.orderNumber\n",
    "    -> join customers\n",
    "    -> on orders.customerNumber = customers.customerNumber\n",
    "    -> where customers.customerName = \"Atelier graphique\";\n",
    "\n",
    "answer is 601.49"
   ]
  },
  {
   "attachments": {},
   "cell_type": "markdown",
   "metadata": {},
   "source": [
    "                                    #LEFT OUTER JOIN OR RIGHT OUTER JOIN "
   ]
  },
  {
   "attachments": {},
   "cell_type": "markdown",
   "metadata": {},
   "source": [
    "**Number of Rows after left joining payments and customers table**\n",
    "\n",
    "    select count(*) from payments left join\n",
    "    -> customers on\n",
    "    -> payments.customerNumber = customers.customerNumber;\n",
    "\n",
    "answer is 273"
   ]
  }
 ],
 "metadata": {
  "kernelspec": {
   "display_name": "Python 3",
   "language": "python",
   "name": "python3"
  },
  "language_info": {
   "codemirror_mode": {
    "name": "ipython",
    "version": 3
   },
   "file_extension": ".py",
   "mimetype": "text/x-python",
   "name": "python",
   "nbconvert_exporter": "python",
   "pygments_lexer": "ipython3",
   "version": "3.10.7"
  },
  "orig_nbformat": 4,
  "vscode": {
   "interpreter": {
    "hash": "6b6bb9b73e77c7418ba4b370821ce9827db27c53033f41f9ef34f697bab06e5b"
   }
  }
 },
 "nbformat": 4,
 "nbformat_minor": 2
}
