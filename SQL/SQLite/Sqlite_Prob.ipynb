{
 "cells": [
  {
   "attachments": {},
   "cell_type": "markdown",
   "metadata": {},
   "source": [
    "### problem : 1 "
   ]
  },
  {
   "cell_type": "code",
   "execution_count": 4,
   "metadata": {},
   "outputs": [],
   "source": [
    "import sqlite3 as sq\n",
    "db = sq.connect(\"Employees.sqlite\")\n",
    "curr = db.cursor()\n"
   ]
  },
  {
   "cell_type": "code",
   "execution_count": 5,
   "metadata": {},
   "outputs": [
    {
     "data": {
      "text/plain": [
       "<sqlite3.Cursor at 0x26c880eeb40>"
      ]
     },
     "execution_count": 5,
     "metadata": {},
     "output_type": "execute_result"
    }
   ],
   "source": [
    "sql_query = 'create table Employee_Details(EmployeeID int primary key, Name text, Age int, Department text, Salary int  )'\n",
    "curr.execute(sql_query)"
   ]
  },
  {
   "cell_type": "code",
   "execution_count": 6,
   "metadata": {},
   "outputs": [],
   "source": [
    "employee_id=[101,102,103,104,105,106,107,108,109,110,111,112]\n",
    "name=['Aadarsh','Aarti','Siddharth','Aman','Amit','Shivansh','Vaibhav','Himanshu','Raman','Kunal','Adhira','Tanya']\n",
    "age=[25,27,25,24,30,26,23,26,25,26,29,24]\n",
    "department=['Marketing','Operations','Finance','Human Resource','Marketing','IT','Finance','IT','Operations','Marketing','Human Resource','Marketing']\n",
    "salary=[50000,60000,85000,75000,50000,90000,85000,90000,60000,50000,75000,50000]\n",
    "\n",
    "value = []\n",
    "lenght = len(name)\n",
    "for i in range(lenght):\n",
    "    l = []\n",
    "    l.append(employee_id[i])\n",
    "    l.append(name[i])\n",
    "    l.append(age[i])\n",
    "    l.append(department[i])\n",
    "    l.append(salary[i])\n",
    "    t = tuple(l)\n",
    "    value.append(t)\n",
    "\n",
    "sql_qery = \"insert into Employee_Details values (?,?,?,?,?)\"\n",
    "curr.executemany(sql_qery,value)\n",
    "db.commit() "
   ]
  },
  {
   "attachments": {},
   "cell_type": "markdown",
   "metadata": {},
   "source": [
    "### problem : 2"
   ]
  },
  {
   "cell_type": "code",
   "execution_count": 8,
   "metadata": {},
   "outputs": [],
   "source": [
    "import sqlite3 as sq \n",
    "db = sq.connect(\"Employees.sqlite\")\n",
    "curr = db.cursor()"
   ]
  },
  {
   "cell_type": "code",
   "execution_count": 16,
   "metadata": {},
   "outputs": [
    {
     "name": "stdout",
     "output_type": "stream",
     "text": [
      "103\n",
      "107\n"
     ]
    }
   ],
   "source": [
    "curr.execute(\"select Employee_id from Employee_Detail where Department = 'Finance'\")\n",
    "data = curr.fetchall()\n",
    "for i in data :\n",
    "    print(i[0])\n"
   ]
  },
  {
   "cell_type": "code",
   "execution_count": 19,
   "metadata": {},
   "outputs": [],
   "source": [
    "import sqlite3 as sq \n",
    "\n",
    "db = sq.connect(\"Employees.sqlite\")\n",
    "curr =  db.cursor()"
   ]
  },
  {
   "cell_type": "code",
   "execution_count": 20,
   "metadata": {},
   "outputs": [
    {
     "name": "stdout",
     "output_type": "stream",
     "text": [
      "Finance 2\n",
      "Human Resource 2\n",
      "IT 2\n",
      "Marketing 4\n",
      "Operations 2\n"
     ]
    }
   ],
   "source": [
    "curr.execute(\"select Department, count(*) from Employee_detail group by department\")\n",
    "data = curr.fetchall()\n",
    "for i in data :\n",
    "    print(*i)"
   ]
  },
  {
   "cell_type": "code",
   "execution_count": null,
   "metadata": {},
   "outputs": [],
   "source": [
    "import pandas as pd \n",
    "data = pd.DataFrame([[1,\"aman\",20],[2,\"Amit\",21],[3,\"Ankush\",30],[4,\"Nidhi\",22],[4,\"Manish\",23]],columns=[\"ID\",\"Name\",\"Age\"])\n",
    "data\n",
    "data.to_sql(\"Faculty\",db)"
   ]
  },
  {
   "cell_type": "code",
   "execution_count": 37,
   "metadata": {},
   "outputs": [
    {
     "data": {
      "text/plain": [
       "5"
      ]
     },
     "execution_count": 37,
     "metadata": {},
     "output_type": "execute_result"
    }
   ],
   "source": [
    "data[\"address\"] = \"test\"\n",
    "data.to_sql(\"Faculty\",db,if_exists=\"replace\") "
   ]
  },
  {
   "cell_type": "code",
   "execution_count": 38,
   "metadata": {},
   "outputs": [],
   "source": [
    "curr.execute(\"alter table faculty drop column address\")\n",
    "db.commit()"
   ]
  },
  {
   "cell_type": "code",
   "execution_count": 65,
   "metadata": {},
   "outputs": [
    {
     "data": {
      "text/plain": [
       "<sqlite3.Cursor at 0x1ccf8fb6940>"
      ]
     },
     "execution_count": 65,
     "metadata": {},
     "output_type": "execute_result"
    }
   ],
   "source": [
    "curr.execute(\"drop table Employee_details\")"
   ]
  },
  {
   "attachments": {},
   "cell_type": "markdown",
   "metadata": {},
   "source": [
    "### Problem 3  \n",
    "**Count Genre**\n",
    "\n",
    "    IMDB.sqlite' database contains all details of movies and has three tables with name IMDB, genre and earning.\n",
    "    Find the count of each genre present in IMDB movie dataset?\n",
    "    Print the Genre and number of movies present in that genre.\n",
    "    Note: Ignore the empty value present in genre."
   ]
  },
  {
   "cell_type": "code",
   "execution_count": 1,
   "metadata": {},
   "outputs": [],
   "source": [
    "import sqlite3 as sq\n",
    "import pandas as pd \n",
    "db = sq.connect(\"IMDB.sqlite\")\n",
    "curr = db.cursor()"
   ]
  },
  {
   "cell_type": "code",
   "execution_count": 2,
   "metadata": {},
   "outputs": [
    {
     "name": "stdout",
     "output_type": "stream",
     "text": [
      "Drama 77\n",
      "Adventure 43\n",
      "Action 33\n",
      "Comedy 31\n",
      "Biography 21\n",
      "Sci-Fi 18\n",
      "Thriller 14\n",
      "Animation 13\n",
      "Romance 13\n",
      "Crime 11\n",
      "Mystery 7\n",
      "Fantasy 7\n",
      "History 6\n",
      "Family 3\n",
      "Sport 3\n",
      "Music 3\n",
      "Western 2\n",
      "War 2\n",
      "Horror 2\n",
      "Musical 1\n"
     ]
    }
   ],
   "source": [
    "data = pd.read_sql_query(\"Select * from genre\",db)\n",
    "data = data[data.genre!=\"\"]\n",
    "data = data[\"genre\"].value_counts()\n",
    "index = data.index\n",
    "value = data.values\n",
    "for i,j in zip(index,value):\n",
    "    print(i,j)"
   ]
  },
  {
   "cell_type": "code",
   "execution_count": 4,
   "metadata": {},
   "outputs": [],
   "source": [
    "import sqlite3 as s\n",
    "db = s.connect(\"IMDB.sqlite\")\n",
    "curr = db.cursor()"
   ]
  },
  {
   "cell_type": "code",
   "execution_count": 16,
   "metadata": {},
   "outputs": [
    {
     "name": "stdout",
     "output_type": "stream",
     "text": [
      "Action 33\n",
      "Adventure 43\n",
      "Animation 13\n",
      "Biography 21\n",
      "Comedy 31\n",
      "Crime 11\n",
      "Drama 77\n",
      "Family 3\n",
      "Fantasy 7\n",
      "History 6\n",
      "Horror 2\n",
      "Music 3\n",
      "Musical 1\n",
      "Mystery 7\n",
      "Romance 13\n",
      "Sci-Fi 18\n",
      "Sport 3\n",
      "Thriller 14\n",
      "War 2\n",
      "Western 2\n"
     ]
    }
   ],
   "source": [
    "curr.execute(\"select genre,count(*) from genre where genre is not null group by genre\")\n",
    "data = curr.fetchall()\n",
    "# print(data)\n",
    "# for i in data :\n",
    "#     print(*i)\n",
    "for i in range(len(data)):\n",
    "    if i!=0 :\n",
    "        print(*data[i])"
   ]
  },
  {
   "attachments": {},
   "cell_type": "markdown",
   "metadata": {},
   "source": [
    "### Problem : 4 \n",
    "\n",
    "**IMDB Movie**\n",
    "\n",
    "\n",
    "IMDB.sqlite' database contains all details of movies and has three tables with name IMDB, genre and earning.\n",
    "Find the highest-grossing movie (i.e domestic earning + worldwide earning) in IMDB database.\n",
    "Print the rating of that movie."
   ]
  },
  {
   "cell_type": "code",
   "execution_count": 17,
   "metadata": {},
   "outputs": [
    {
     "data": {
      "text/html": [
       "<div>\n",
       "<style scoped>\n",
       "    .dataframe tbody tr th:only-of-type {\n",
       "        vertical-align: middle;\n",
       "    }\n",
       "\n",
       "    .dataframe tbody tr th {\n",
       "        vertical-align: top;\n",
       "    }\n",
       "\n",
       "    .dataframe thead th {\n",
       "        text-align: right;\n",
       "    }\n",
       "</style>\n",
       "<table border=\"1\" class=\"dataframe\">\n",
       "  <thead>\n",
       "    <tr style=\"text-align: right;\">\n",
       "      <th></th>\n",
       "      <th>Rating</th>\n",
       "      <th>Domestic</th>\n",
       "      <th>Worldwide</th>\n",
       "    </tr>\n",
       "  </thead>\n",
       "  <tbody>\n",
       "    <tr>\n",
       "      <th>0</th>\n",
       "      <td>8.1</td>\n",
       "      <td>56671993</td>\n",
       "      <td>1.877332e+08</td>\n",
       "    </tr>\n",
       "    <tr>\n",
       "      <th>1</th>\n",
       "      <td>7.6</td>\n",
       "      <td>18335230</td>\n",
       "      <td>6.073880e+07</td>\n",
       "    </tr>\n",
       "    <tr>\n",
       "      <th>2</th>\n",
       "      <td>7.7</td>\n",
       "      <td>35014192</td>\n",
       "      <td>3.918778e+07</td>\n",
       "    </tr>\n",
       "    <tr>\n",
       "      <th>3</th>\n",
       "      <td>7.8</td>\n",
       "      <td>15322921</td>\n",
       "      <td>8.710045e+07</td>\n",
       "    </tr>\n",
       "    <tr>\n",
       "      <th>4</th>\n",
       "      <td>7.9</td>\n",
       "      <td>6739492</td>\n",
       "      <td>1.983949e+07</td>\n",
       "    </tr>\n",
       "    <tr>\n",
       "      <th>...</th>\n",
       "      <td>...</td>\n",
       "      <td>...</td>\n",
       "      <td>...</td>\n",
       "    </tr>\n",
       "    <tr>\n",
       "      <th>112</th>\n",
       "      <td>8.5</td>\n",
       "      <td>13092000</td>\n",
       "      <td>4.898204e+07</td>\n",
       "    </tr>\n",
       "    <tr>\n",
       "      <th>113</th>\n",
       "      <td>7.7</td>\n",
       "      <td>189422889</td>\n",
       "      <td>4.712229e+08</td>\n",
       "    </tr>\n",
       "    <tr>\n",
       "      <th>114</th>\n",
       "      <td>8.0</td>\n",
       "      <td>233921534</td>\n",
       "      <td>7.478628e+08</td>\n",
       "    </tr>\n",
       "    <tr>\n",
       "      <th>115</th>\n",
       "      <td>7.8</td>\n",
       "      <td>146408305</td>\n",
       "      <td>3.536241e+08</td>\n",
       "    </tr>\n",
       "    <tr>\n",
       "      <th>116</th>\n",
       "      <td>8.1</td>\n",
       "      <td>341268248</td>\n",
       "      <td>1.023784e+09</td>\n",
       "    </tr>\n",
       "  </tbody>\n",
       "</table>\n",
       "<p>117 rows × 3 columns</p>\n",
       "</div>"
      ],
      "text/plain": [
       "     Rating   Domestic     Worldwide\n",
       "0       8.1   56671993  1.877332e+08\n",
       "1       7.6   18335230  6.073880e+07\n",
       "2       7.7   35014192  3.918778e+07\n",
       "3       7.8   15322921  8.710045e+07\n",
       "4       7.9    6739492  1.983949e+07\n",
       "..      ...        ...           ...\n",
       "112     8.5   13092000  4.898204e+07\n",
       "113     7.7  189422889  4.712229e+08\n",
       "114     8.0  233921534  7.478628e+08\n",
       "115     7.8  146408305  3.536241e+08\n",
       "116     8.1  341268248  1.023784e+09\n",
       "\n",
       "[117 rows x 3 columns]"
      ]
     },
     "execution_count": 17,
     "metadata": {},
     "output_type": "execute_result"
    }
   ],
   "source": [
    "import sqlite3 as s\n",
    "import pandas as pd \n",
    "db = s.connect(\"IMDB.sqlite\")\n",
    "data  = pd.read_sql_query(\"Select Rating, Domestic, Worldwide from earning join IMDB on earning.Movie_id = IMDB.movie_id\",db)"
   ]
  },
  {
   "cell_type": "code",
   "execution_count": 43,
   "metadata": {},
   "outputs": [
    {
     "name": "stdout",
     "output_type": "stream",
     "text": [
      "8.1\n"
     ]
    }
   ],
   "source": [
    "data[\"Total\"] = data.Domestic + data.Worldwide\n",
    "data = data[data.Total == max(data.Total)]\n",
    "val = data[\"Rating\"].values[0]\n",
    "print(val)\n",
    "# val = data.iloc[:,:1]\n",
    "# print(val)\n",
    "\n"
   ]
  }
 ],
 "metadata": {
  "kernelspec": {
   "display_name": "Python 3",
   "language": "python",
   "name": "python3"
  },
  "language_info": {
   "codemirror_mode": {
    "name": "ipython",
    "version": 3
   },
   "file_extension": ".py",
   "mimetype": "text/x-python",
   "name": "python",
   "nbconvert_exporter": "python",
   "pygments_lexer": "ipython3",
   "version": "3.10.7"
  },
  "orig_nbformat": 4,
  "vscode": {
   "interpreter": {
    "hash": "6b6bb9b73e77c7418ba4b370821ce9827db27c53033f41f9ef34f697bab06e5b"
   }
  }
 },
 "nbformat": 4,
 "nbformat_minor": 2
}
