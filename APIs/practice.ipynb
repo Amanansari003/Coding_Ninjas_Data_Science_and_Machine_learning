{
 "cells": [
  {
   "cell_type": "code",
   "execution_count": 2,
   "metadata": {},
   "outputs": [
    {
     "name": "stdout",
     "output_type": "stream",
     "text": [
      "200\n"
     ]
    }
   ],
   "source": [
    "import requests\n",
    "res = requests.get(\"http://api.open-notify.org/iss-now.json\")\n",
    "print(res.status_code)"
   ]
  },
  {
   "attachments": {},
   "cell_type": "markdown",
   "metadata": {},
   "source": [
    "**Problem 1 :**  \n"
   ]
  },
  {
   "cell_type": "code",
   "execution_count": 7,
   "metadata": {},
   "outputs": [
    {
     "name": "stdout",
     "output_type": "stream",
     "text": [
      "text/html\n"
     ]
    }
   ],
   "source": [
    "import requests as rs\n",
    "response = rs.get(\"https://codingninjas.in/api/v3/events\")\n",
    "response.encoding\n",
    "headd_info = response.headers\n",
    "print(headd_info['Content-Type'])\n"
   ]
  },
  {
   "cell_type": "code",
   "execution_count": 9,
   "metadata": {},
   "outputs": [
    {
     "name": "stdout",
     "output_type": "stream",
     "text": [
      "4\n"
     ]
    }
   ],
   "source": [
    "import requests as rs\n",
    "response = rs.get(\"https://dog.ceo/api/breeds/list/all\")\n",
    "response.encoding\n",
    "python_data = response.json()\n",
    "print(len(python_data[\"message\"][\"poodle\"] ))"
   ]
  },
  {
   "cell_type": "code",
   "execution_count": 3,
   "metadata": {},
   "outputs": [
    {
     "name": "stdout",
     "output_type": "stream",
     "text": [
      "Premium Competitive Programming Course\n",
      "C++ Foundation with Data Structures\n",
      "Aptitude for professionals\n",
      "Premium Data Science Course\n",
      "Premium Android App Development\n",
      "Premium Machine Learning Course\n",
      "Premium Data structures and Algorithms [C++/Java/Python]\n",
      "System Design Course\n",
      "Ninja Competitive Programmer Track\n",
      "Premium Full Stack Web Development\n",
      "Machine Learning & Deep Learning Course\n",
      "Advanced  Front-End Web Development with React\n",
      "JAVA Foundation with Data Structures\n",
      "Ninja Android Developer Career Track \n",
      "Full Stack Web Development\n",
      "Interview Preparation Course\n",
      "Data Science & Machine Learning Complete\n",
      "Grokking the Operating Systems Interview\n",
      "Ninja  Web Developer Career Track - NodeJS & ReactJs\n",
      "Ninja  Web Developer Career Track - NodeJS\n",
      "Competitive Programming Course\n",
      "Android Development with Kotlin\n",
      "Python Foundation with Data Structures\n",
      "Ninja Data Scientist Career Track\n",
      "Ninja Machine Learning Engineer Career Track\n",
      "Aptitude Preparation Course\n"
     ]
    }
   ],
   "source": [
    "import requests as rs\n",
    "response = rs.get(\"https://api.codingninjas.com/api/v3/courses\")\n",
    "response.encoding\n",
    "python_data = response.json()\n",
    "# print(python_data[\"data\"][\"courses\"] )\n",
    "for i in python_data[\"data\"][\"courses\"] :\n",
    "    print(i[\"name\"])"
   ]
  },
  {
   "cell_type": "code",
   "execution_count": 4,
   "metadata": {},
   "outputs": [
    {
     "name": "stdout",
     "output_type": "stream",
     "text": [
      "Ready to solve fun, challenging problems?\n"
     ]
    }
   ],
   "source": [
    "import requests as rs\n",
    "response = rs.get(\"https://api.codingninjas.com/api/v3/events?event_category=ALL_EVENTS&event_sub_category=All%20Time%20Favorites&tag_list=&offset=0&_ga=2.108473984.300072197.1674664862-179303593.1664467097\")\n",
    "response.encoding\n",
    "python_data = response.json()\n",
    "des = python_data[\"data\"][\"events\"]\n",
    "if len(des) == 0 :\n",
    "    print(\"No Events!\")\n",
    "else :\n",
    "    print(des[0][\"short_desc\"])"
   ]
  },
  {
   "cell_type": "code",
   "execution_count": 6,
   "metadata": {},
   "outputs": [
    {
     "name": "stdout",
     "output_type": "stream",
     "text": [
      "Machine Learning\n"
     ]
    }
   ],
   "source": [
    "import requests as rs\n",
    "\n",
    "response = rs.get(\"http://api.codingninjas.com/api/v3/courses\", params= {\"id\" : \"19\" })\n",
    "python_data = response.json()\n",
    "for i in python_data[\"data\"][\"courses\"]:\n",
    "    if i[\"id\"] == 19 :\n",
    "        print(i[\"title\"])"
   ]
  },
  {
   "cell_type": "code",
   "execution_count": 10,
   "metadata": {},
   "outputs": [
    {
     "name": "stdout",
     "output_type": "stream",
     "text": [
      "81\n"
     ]
    }
   ],
   "source": [
    "import requests as rs\n",
    "\n",
    "response = rs.get(\"https://api.openaq.org/v2/cities\", params= {\"country\" : \"AU\" })\n",
    "python_data = response.json()\n",
    "c = 0\n",
    "# for i in python_data[\"results\"] :\n",
    "#     if i[\"city\"]:\n",
    "#         c+=1\n",
    "# print(c)\n",
    "print(len(python_data[\"results\"]))\n",
    "\n"
   ]
  },
  {
   "cell_type": "code",
   "execution_count": 12,
   "metadata": {},
   "outputs": [
    {
     "name": "stdout",
     "output_type": "stream",
     "text": [
      "Antwerpen\n",
      "Brabant wallon\n",
      "Brussels-Capital Region\n",
      "Flanders\n",
      "Hainaut\n"
     ]
    }
   ],
   "source": [
    "import requests as rs\n",
    "\n",
    "response = rs.get(\"https://api.openaq.org/v1/cities\", params= {\"country\" : \"BE\" , 'limit' : 5 })\n",
    "python_data = response.json()\n",
    "for i in python_data[\"results\"]:\n",
    "    print(i['city'])"
   ]
  },
  {
   "cell_type": "code",
   "execution_count": 18,
   "metadata": {},
   "outputs": [
    {
     "name": "stdout",
     "output_type": "stream",
     "text": [
      "401\n"
     ]
    }
   ],
   "source": [
    "import requests as rs\n",
    "\n",
    "response = rs.get(\"https://api.openweathermap.org/data/2.5/weather\",params={\"api_key\" :\"dcca77cf4aad9ba9370bb3200ff949cc\" , \"city\":\"Haydrabad\"})\n",
    "print(response.status_code)\n",
    "python_data = response.json()"
   ]
  },
  {
   "cell_type": "code",
   "execution_count": 1,
   "metadata": {},
   "outputs": [
    {
     "name": "stdout",
     "output_type": "stream",
     "text": [
      "Mahatma Gandhi's Birthday\n"
     ]
    }
   ],
   "source": [
    "\n",
    "import requests\n",
    "# holiday_api_key='Enter Your api Key here'\n",
    "response = requests.get('https://holidayapi.com/v1/holidays',params = {\"key\":\"a0b6ee2b-497d-4b0a-99d9-889fb3bbe21d\",\"country\":\"IN\",\"year\":2022,\"month\":10,\"day\":2 })\n",
    "#print(response.url)\n",
    "# print(response.status_code)\n",
    "python_data = response.json()\n",
    "# print(python_data)\n",
    "python_data=python_data['holidays']\n",
    "print(python_data[0]['name'])"
   ]
  },
  {
   "cell_type": "code",
   "execution_count": 60,
   "metadata": {},
   "outputs": [
    {
     "name": "stdout",
     "output_type": "stream",
     "text": [
      "Hyderabad\n",
      "Temperature: 301.38\n",
      "Weather Report: clear sky\n"
     ]
    }
   ],
   "source": [
    "\n",
    "import requests\n",
    "\n",
    "response = requests.get('https://api.openweathermap.org/data/2.5/weather?',params={\"appid\" :'1396ff6fc250b7c4a34f67f747eee2eb',\"q\" :'Hyderabad'})\n",
    "python_data = response.json()\n",
    "# print(response.status_code)\n",
    "# print(response.url)\n",
    "# print(python_data)\n",
    "# weather is returning list and at the 0 index there is dictionary \n",
    "## and description is weather report \n",
    "desc = python_data['weather'][0][\"description\"] \n",
    "temp = python_data[\"main\"][\"temp\"]\n",
    "city = python_data['name']\n",
    "print(city)\n",
    "print(\"Temperature:\",temp)\n",
    "print(\"Weather Report:\",desc)"
   ]
  },
  {
   "attachments": {},
   "cell_type": "markdown",
   "metadata": {},
   "source": [
    "## POST"
   ]
  },
  {
   "cell_type": "code",
   "execution_count": 2,
   "metadata": {},
   "outputs": [
    {
     "name": "stdout",
     "output_type": "stream",
     "text": [
      "201\n",
      "{\n",
      "  \"id\": 101\n",
      "}\n"
     ]
    }
   ],
   "source": [
    "import requests as rs\n",
    "\n",
    "response = rs.post(\"https://jsonplaceholder.typicode.com/posts\")\n",
    "print(response.status_code)\n",
    "print(response.text)"
   ]
  },
  {
   "cell_type": "code",
   "execution_count": 5,
   "metadata": {},
   "outputs": [
    {
     "name": "stdout",
     "output_type": "stream",
     "text": [
      "201\n",
      "{\n",
      "  \"UserId\": \"2\",\n",
      "  \"<built-in function id>\": \"200\",\n",
      "  \"title\": \"Test\",\n",
      "  \"id\": 101\n",
      "}\n"
     ]
    }
   ],
   "source": [
    "import requests as rs\n",
    "\n",
    "response = rs.post(\"https://jsonplaceholder.typicode.com/posts\",data = {\"UserId\" : 2, id : 200, \"title\" : \"Test\" })\n",
    "print(response.status_code)\n",
    "print(response.text)"
   ]
  }
 ],
 "metadata": {
  "kernelspec": {
   "display_name": "Python 3",
   "language": "python",
   "name": "python3"
  },
  "language_info": {
   "codemirror_mode": {
    "name": "ipython",
    "version": 3
   },
   "file_extension": ".py",
   "mimetype": "text/x-python",
   "name": "python",
   "nbconvert_exporter": "python",
   "pygments_lexer": "ipython3",
   "version": "3.10.7"
  },
  "orig_nbformat": 4,
  "vscode": {
   "interpreter": {
    "hash": "6b6bb9b73e77c7418ba4b370821ce9827db27c53033f41f9ef34f697bab06e5b"
   }
  }
 },
 "nbformat": 4,
 "nbformat_minor": 2
}
