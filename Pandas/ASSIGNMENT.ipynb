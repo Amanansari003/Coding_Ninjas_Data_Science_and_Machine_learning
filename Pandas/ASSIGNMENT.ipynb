{
 "cells": [
  {
   "attachments": {},
   "cell_type": "markdown",
   "metadata": {},
   "source": [
    "### Terror Attack City\n",
    "\n",
    "**Problem Statement :**\n",
    "\n",
    "    The Most Dangerous city in Jammu and Kashmir and the terrorist group which is most active in that city?\n",
    "    Print count of number of attacks in that city as integer value.\n",
    "*Note:*\n",
    "\n",
    "    Ignoring the Unknown Terrorist Group.Here Dangerous related with the number of terrorist attacks."
   ]
  },
  {
   "cell_type": "code",
   "execution_count": 1,
   "metadata": {},
   "outputs": [
    {
     "name": "stdout",
     "output_type": "stream",
     "text": [
      "Srinagar 657 Muslim Separatists\n"
     ]
    }
   ],
   "source": [
    "import pandas as pd\n",
    "import numpy as np\n",
    "import csv\n",
    "f=pd.read_csv(\"terrorismData.csv\")\n",
    "g=f[f.State=='Jammu and Kashmir']\n",
    "\n",
    "city_list=g['City'].value_counts()\n",
    "### value_count() is fucntion which give us the unique values and the total number of occurence of those values in the column like [1,2,1,1,2,3,3] and the result will be [1,2,3] = [3,2,2] and the values will get considerd as the label it meanse [1,2,3] will be the label \n",
    "x=city_list.index[0]\n",
    "y=city_list.values[0]\n",
    "print(x,end=\" \")\n",
    "print(y,end=\" \")\n",
    "g=g[g.City==x]\n",
    "group_list=g['Group'].value_counts()\n",
    "print(group_list.index[1])"
   ]
  },
  {
   "attachments": {},
   "cell_type": "markdown",
   "metadata": {},
   "source": [
    "### Terror Government\n",
    "\n",
    "**Problem Statement :**\n",
    "There was formation of new government in India on 26 May 2014. So current government's span is from 26th May 2014 to current. Find out two things from this period-\n",
    "* Total number of attacks done in this period in India. Find this count as integer.\n",
    "* Which Terrorist group was most active in this period in India. Most active means, group which has done maximum number of attacks.\n",
    "\n",
    "* Ignore the Unknown group. \n"
   ]
  },
  {
   "cell_type": "code",
   "execution_count": 2,
   "metadata": {},
   "outputs": [
    {
     "name": "stdout",
     "output_type": "stream",
     "text": [
      "3336 Maoists\n"
     ]
    }
   ],
   "source": [
    "import pandas as pd \n",
    "import numpy as np \n",
    "\n",
    "df = pd.read_csv('terrorismData.csv')\n",
    "\n",
    "date = df[df.Day >= 26]\n",
    "year = date[date.Year == 2014]\n",
    "country = year[year.Country == \"India\"]\n",
    "ans1 = country[country.Month == 5]\n",
    "\n",
    "year = df[df.Year == 2014]\n",
    "month = year[year.Month > 5]\n",
    "ans2 = month[month.Country == \"India\"]\n",
    "\n",
    "country = df[df.Country == \"India\"]\n",
    "ans3 = country[country.Year>2014]\n",
    "\n",
    "count_attack = ans1.shape[0]+ans2.shape[0]+ans3.shape[0]\n",
    "\n",
    "\n",
    "# ans1 = ans1[ans1.Group != \"Unknown\"]\n",
    "# ans2 = ans2[ans2.Group != \"Unknown\"]\n",
    "ans3 = ans3[ans3.Group != \"Unknown\"]\n",
    "\n",
    "print(count_attack, ans3.Group.describe().top)\n",
    "\n"
   ]
  },
  {
   "attachments": {},
   "cell_type": "markdown",
   "metadata": {},
   "source": [
    "### Terror Frequency\n",
    "\n",
    "**Problem Statement :**\n",
    "\n",
    "Find the frequency of the Casualty in Red Corridor states and in Jammu and Kashmir ?Here Frequency is (Total Casualty/Total Number of a year)\n",
    "Print frequency as integer value.\n",
    "\n",
    "*Note:*\n",
    "\n",
    "    Red Corridor state includes Jharkhand, Odisha, Andhra Pradesh, and Chhattisgarh. Here Casualty=Killed +Wounded.Don't fill the nan value present in Killed and Wounded feature."
   ]
  },
  {
   "cell_type": "code",
   "execution_count": 5,
   "metadata": {},
   "outputs": [
    {
     "name": "stdout",
     "output_type": "stream",
     "text": [
      "115 261\n"
     ]
    }
   ],
   "source": [
    "import pandas as pd \n",
    "import numpy as np \n",
    "\n",
    "df = pd.read_csv('terrorismData.csv')\n",
    "year = len(set(df['Year']))\n",
    "df = df[df.Country == 'India']\n",
    "df[\"Casulty\"] = df[\"Killed\"]+df[\"Wounded\"]\n",
    "jk = df[df.State == \"Jammu and Kashmir\"]\n",
    "rc = df[(df.State == 'Jharkhand') | (df.State == 'Odisha') | (df.State == 'Andhra Pradesh') | (df.State == 'Chhattisgarh')]\n",
    "\n",
    "jkc = int(np.sum(jk.Casulty))\n",
    "rcc = int(np.sum(rc.Casulty))\n",
    "print(rcc//year,jkc//year)"
   ]
  },
  {
   "attachments": {},
   "cell_type": "markdown",
   "metadata": {},
   "source": [
    "### Terror DeadliestAttack\n",
    "\n",
    "**Problem Statement :**\n",
    "\n",
    "Most Deadliest attack in a history of HumanKind?\n",
    "Print count of Killed people as integer value.\n",
    "\n",
    "*Note:*\n",
    " \n",
    "    Here Deadliest attack means, in which the most number of people killed."
   ]
  },
  {
   "cell_type": "code",
   "execution_count": 6,
   "metadata": {},
   "outputs": [
    {
     "name": "stdout",
     "output_type": "stream",
     "text": [
      "1570 Iraq Islamic State of Iraq and the Levant (ISIL)\n"
     ]
    }
   ],
   "source": [
    "import pandas as pd\n",
    "df = pd.read_csv('terrorismData.csv')\n",
    "\n",
    "df = df[df.Killed==df.Killed.max()]\n",
    "mx_killed = df.Killed.values[0]  ## values property  take the index\n",
    "# mx_killed = df.Killed.loc[0] takes the lable indexing \n",
    "country = df.Country.iloc[0]\n",
    "group = df.Group.iloc[0]\n",
    "print(int(mx_killed), country, group)\n",
    "\n",
    "\n",
    "## iloc and value both can be used and iloc also takes the index\n",
    "\n",
    "\n",
    "# ****---- Also Correct -----***\n",
    "# import pandas as pd\n",
    "# import numpy as np \n",
    "# df = pd.read_csv('terrorismData.csv')\n",
    "# kill = df.Killed.max()\n",
    "# val = np.where(df.Killed == kill)[0][0]\n",
    "# c = df.Country.values[val]\n",
    "# g = df.Group.values[val]\n",
    "# print(int(kill),c,g) "
   ]
  },
  {
   "attachments": {},
   "cell_type": "markdown",
   "metadata": {},
   "source": [
    "### Terror Attack\n",
    "\n",
    "**Problem Statement :**\n",
    "Find out the Country with Highest Number of Terror Attack and in which year the most number of terrorist attack happened in that country ?\n",
    "Print count of terror attacks as integer value."
   ]
  },
  {
   "cell_type": "code",
   "execution_count": 7,
   "metadata": {},
   "outputs": [
    {
     "name": "stdout",
     "output_type": "stream",
     "text": [
      "Iraq 24636 2014\n"
     ]
    }
   ],
   "source": [
    "import pandas as pd\n",
    "df = pd.read_csv('terrorismData.csv')\n",
    "\n",
    "val = df.Country.value_counts()\n",
    "country = val.index[0]\n",
    "print(country,end = \" \")\n",
    "df = df[df.Country == country]\n",
    "print(len(df.Country),end = \" \")\n",
    "val1 = df.Year.value_counts()\n",
    "print(val1.index[0])"
   ]
  }
 ],
 "metadata": {
  "kernelspec": {
   "display_name": "Python 3",
   "language": "python",
   "name": "python3"
  },
  "language_info": {
   "codemirror_mode": {
    "name": "ipython",
    "version": 3
   },
   "file_extension": ".py",
   "mimetype": "text/x-python",
   "name": "python",
   "nbconvert_exporter": "python",
   "pygments_lexer": "ipython3",
   "version": "3.10.7"
  },
  "orig_nbformat": 4,
  "vscode": {
   "interpreter": {
    "hash": "6b6bb9b73e77c7418ba4b370821ce9827db27c53033f41f9ef34f697bab06e5b"
   }
  }
 },
 "nbformat": 4,
 "nbformat_minor": 2
}
