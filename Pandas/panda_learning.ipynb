{
 "cells": [
  {
   "attachments": {},
   "cell_type": "markdown",
   "metadata": {},
   "source": [
    "### Count Of Flower\n",
    "Problem Statement\n",
    "Find and print count of each kind of flower (separated by space)?\n",
    "\n",
    "Note: Get the dataset from here\n",
    "Print the count as Integer Value.\n",
    "Output Format"
   ]
  },
  {
   "cell_type": "code",
   "execution_count": null,
   "metadata": {},
   "outputs": [],
   "source": [
    "\n",
    "import pandas as pd\n",
    "iris = pd.read_csv(\"https://gist.githubusercontent.com/netj/8836201/raw/6f9306ad21398ea43cba4f7d537619d0e07d5ae3/iris.csv\")\n",
    "for i in iris['variety'].value_counts():\n",
    "    print(i,end = \" \")"
   ]
  },
  {
   "attachments": {},
   "cell_type": "markdown",
   "metadata": {},
   "source": [
    "### Iris Virginica\n",
    "**Problem Statement**\n",
    "    Find the data of flower “Iris-virginica” type where petal-length > 1.5?\n",
    "\n",
    "*Note:*\n",
    "\n",
    "    Get the dataset from here\n",
    "    Print the all the feature values."
   ]
  },
  {
   "cell_type": "code",
   "execution_count": null,
   "metadata": {},
   "outputs": [],
   "source": [
    "import pandas as pd\n",
    "column_name = ['SeapalLength','SeapalWidth','PetalLength','PetalWidth','variety']\n",
    "iris = pd.read_csv('https://archive.ics.uci.edu/ml/machine-learning-databases/iris/iris.data', names=column_name)\n",
    "iris = iris[iris.variety == \"Iris-virginica\"]\n",
    "iris = iris[iris.PetalLength > 1.5]\n",
    "iris = iris.to_numpy() \n",
    "for i in iris :\n",
    "    print(*i)  "
   ]
  },
  {
   "attachments": {},
   "cell_type": "markdown",
   "metadata": {},
   "source": [
    "### Iris Values\n",
    "**Problome Statement**\n",
    "\n",
    "Find and print the minimum, maximum and average value of the feature for each kind of flower ?\n",
    "\n",
    "*Note:*\n",
    "\n",
    "    Get the dataset from here\n",
    "    Print the value with two decimal places.\n",
    "\n",
    "*Note:*\n",
    "\n",
    "    Order for flower is Iris-setosa, Iris-versicolor and Iris-virginica."
   ]
  },
  {
   "cell_type": "code",
   "execution_count": 6,
   "metadata": {},
   "outputs": [
    {
     "name": "stdout",
     "output_type": "stream",
     "text": [
      "4.30 2.30 1.00 0.10 Iris-setosa\n",
      "5.80 4.40 1.90 0.60 Iris-setosa\n",
      "5.01 3.42 1.46 0.24 Iris-setosa\n",
      "4.90 2.00 3.00 1.00 Iris-versicolor\n",
      "7.00 3.40 5.10 1.80 Iris-versicolor\n",
      "5.94 2.77 4.26 1.33 Iris-versicolor\n",
      "4.90 2.20 4.50 1.40 Iris-virginica\n",
      "7.90 3.80 6.90 2.50 Iris-virginica\n",
      "6.59 2.97 5.55 2.03 Iris-virginica\n"
     ]
    }
   ],
   "source": [
    "import pandas as pd\n",
    "columns = ['sl','sw','pl','pw','flower_type']\n",
    "iris = pd.read_csv('https://archive.ics.uci.edu/ml/machine-learning-databases/iris/iris.data', names=columns)\n",
    "\n",
    "c = iris[iris.flower_type == \"Iris-setosa\"]\n",
    "print(format(c[\"sl\"].min(),\".2f\"),format(c[\"sw\"].min(),\".2f\"),format(c[\"pl\"].min(),\".2f\"),format(c[\"pw\"].min(),\".2f\"),c.iloc[0,4])\n",
    "print(format(c[\"sl\"].max(),\".2f\"),format(c[\"sw\"].max(),\".2f\"),format(c[\"pl\"].max(),\".2f\"),format(c[\"pw\"].max(),\".2f\"),c.iloc[0,4])\n",
    "print(format(c[\"sl\"].mean(),\".2f\"),format(c[\"sw\"].mean(),\".2f\"),format(c[\"pl\"].mean(),\".2f\"),format(c[\"pw\"].mean(),\".2f\"),c.iloc[0,4])\n",
    "c = iris[iris.flower_type == 'Iris-versicolor']\n",
    "print(format(c[\"sl\"].min(),\".2f\"),format(c[\"sw\"].min(),\".2f\"),format(c[\"pl\"].min(),\".2f\"),format(c[\"pw\"].min(),\".2f\"),c.iloc[0,4])\n",
    "print(format(c[\"sl\"].max(),\".2f\"),format(c[\"sw\"].max(),\".2f\"),format(c[\"pl\"].max(),\".2f\"),format(c[\"pw\"].max(),\".2f\"),c.iloc[0,4])\n",
    "print(format(c[\"sl\"].mean(),\".2f\"),format(c[\"sw\"].mean(),\".2f\"),format(c[\"pl\"].mean(),\".2f\"),format(c[\"pw\"].mean(),\".2f\"),c.iloc[0,4])\n",
    "c = iris[iris.flower_type == 'Iris-virginica']\n",
    "print(format(c[\"sl\"].min(),\".2f\"),format(c[\"sw\"].min(),\".2f\"),format(c[\"pl\"].min(),\".2f\"),format(c[\"pw\"].min(),\".2f\"),c.iloc[0,4])\n",
    "print(format(c[\"sl\"].max(),\".2f\"),format(c[\"sw\"].max(),\".2f\"),format(c[\"pl\"].max(),\".2f\"),format(c[\"pw\"].max(),\".2f\"),c.iloc[0,4])\n",
    "print(format(c[\"sl\"].mean(),\".2f\"),format(c[\"sw\"].mean(),\".2f\"),format(c[\"pl\"].mean(),\".2f\"),format(c[\"pw\"].mean(),\".2f\"),c.iloc[0,4])\n"
   ]
  }
 ],
 "metadata": {
  "kernelspec": {
   "display_name": "Python 3",
   "language": "python",
   "name": "python3"
  },
  "language_info": {
   "codemirror_mode": {
    "name": "ipython",
    "version": 3
   },
   "file_extension": ".py",
   "mimetype": "text/x-python",
   "name": "python",
   "nbconvert_exporter": "python",
   "pygments_lexer": "ipython3",
   "version": "3.10.7"
  },
  "orig_nbformat": 4,
  "vscode": {
   "interpreter": {
    "hash": "6b6bb9b73e77c7418ba4b370821ce9827db27c53033f41f9ef34f697bab06e5b"
   }
  }
 },
 "nbformat": 4,
 "nbformat_minor": 2
}
